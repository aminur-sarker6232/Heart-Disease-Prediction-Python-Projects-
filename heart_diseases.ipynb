{
  "nbformat": 4,
  "nbformat_minor": 0,
  "metadata": {
    "colab": {
      "provenance": []
    },
    "kernelspec": {
      "name": "python3",
      "display_name": "Python 3"
    },
    "language_info": {
      "name": "python"
    }
  },
  "cells": [
    {
      "cell_type": "code",
      "source": [
        "import numpy as np\n",
        "import pandas as pd\n",
        "import seaborn as sns\n",
        "import matplotlib.pyplot as plt\n",
        "from sklearn.model_selection import train_test_split\n",
        "from sklearn.preprocessing import StandardScaler\n",
        "from sklearn.linear_model import LogisticRegression\n",
        "from sklearn.metrics import accuracy_score, confusion_matrix, classification_report\n",
        "\n",
        "# from google.colab import drive\n",
        "# drive.mount('/content/drive')\n",
        "# df = pd.read_csv('/content/drive/My Drive/Learning Note/Heart diseases prediction 1st/heart.csv')\n",
        "\n",
        "df = pd.read_csv('https://raw.githubusercontent.com/aminur-sarker6232/Heart-Disease-Prediction-Python-Projects-/refs/heads/main/heart.csv')"
      ],
      "metadata": {
        "id": "XvCD9pIx1psW"
      },
      "execution_count": null,
      "outputs": []
    },
    {
      "cell_type": "code",
      "source": [
        "df.head()"
      ],
      "metadata": {
        "id": "JI3QyBQr1wb5"
      },
      "execution_count": null,
      "outputs": []
    },
    {
      "cell_type": "code",
      "source": [
        "df"
      ],
      "metadata": {
        "id": "GW9t5ZGrCb9K"
      },
      "execution_count": null,
      "outputs": []
    },
    {
      "cell_type": "code",
      "source": [
        "df.isnull().sum()"
      ],
      "metadata": {
        "id": "hSEnICoV2A23"
      },
      "execution_count": null,
      "outputs": []
    },
    {
      "cell_type": "code",
      "source": [
        "df.info()"
      ],
      "metadata": {
        "id": "D0x8En2r2C8o"
      },
      "execution_count": null,
      "outputs": []
    },
    {
      "cell_type": "code",
      "source": [
        "df.describe()"
      ],
      "metadata": {
        "id": "Aajmzlzt2DNv"
      },
      "execution_count": null,
      "outputs": []
    },
    {
      "cell_type": "code",
      "source": [
        "sns.pairplot(df, hue='target', vars=['age', 'trestbps', 'chol', 'thalach', 'oldpeak'])\n"
      ],
      "metadata": {
        "id": "344X99ru4FZp"
      },
      "execution_count": null,
      "outputs": []
    },
    {
      "cell_type": "code",
      "source": [
        "plt.figure(figsize=(12, 8))\n",
        "sns.heatmap(df.corr(), annot=True, cmap='coolwarm', fmt='.2f', linewidths=0.5)\n",
        "plt.title('Correlation Matrix')\n",
        "plt.show()"
      ],
      "metadata": {
        "id": "Uhh7VKdm4kN9"
      },
      "execution_count": null,
      "outputs": []
    },
    {
      "cell_type": "code",
      "source": [
        "X = df.drop('target', axis=1)\n",
        "y = df['target']"
      ],
      "metadata": {
        "id": "nrsVzji44-5i"
      },
      "execution_count": null,
      "outputs": []
    },
    {
      "cell_type": "code",
      "source": [
        "scaler = StandardScaler()\n",
        "X_scaled = scaler.fit_transform(X)\n",
        "\n",
        "X_train, X_test, y_train, y_test = train_test_split(X_scaled, y, test_size=0.2, random_state=42)\n",
        "\n",
        "model = LogisticRegression()\n",
        "model.fit(X_train, y_train)\n",
        "\n",
        "y_pred = model.predict(X_test)\n",
        "\n",
        "accuracy = accuracy_score(y_test, y_pred)\n",
        "print(f'Accuracy: {accuracy:.2f}')\n",
        "\n",
        "conf_matrix = confusion_matrix(y_test, y_pred)\n",
        "class_report = classification_report(y_test, y_pred)\n",
        "\n",
        "print('Confusion Matrix:')\n",
        "print(conf_matrix)\n",
        "print('Classification Report:')\n",
        "print(class_report)"
      ],
      "metadata": {
        "id": "J477W4rr5Ipi"
      },
      "execution_count": null,
      "outputs": []
    },
    {
      "cell_type": "code",
      "source": [
        "\n",
        "def predict_heart_disease(age, sex, cp, trestbps, chol, fbs, restecg, thalach, exang, oldpeak, slope, ca, thal):\n",
        "\n",
        "    input_data = np.array([[age, sex, cp, trestbps, chol, fbs, restecg, thalach, exang, oldpeak, slope, ca, thal]])\n",
        "\n",
        "    input_data_scaled = scaler.transform(input_data)\n",
        "\n",
        "    prediction = model.predict(input_data_scaled)\n",
        "\n",
        "    if prediction[0] == 0:\n",
        "        return \"No heart disease\"\n",
        "    else:\n",
        "        return \"Heart disease detected\"\n",
        "\n",
        "# Example usage of the prediction function\n",
        "age = int(input(\"Enter your age: \"))\n",
        "sex = int(input(\"Enter your sex (0 = female, 1 = male): \"))\n",
        "cp = int(input(\"Enter chest pain type (0-3): \"))\n",
        "trestbps = float(input(\"Enter resting blood pressure (mm Hg): \"))\n",
        "chol = float(input(\"Enter serum cholesterol (mg/dL): \"))\n",
        "fbs = int(input(\"Enter fasting blood sugar > 120 mg/dL (1 = true, 0 = false): \"))\n",
        "restecg = int(input(\"Enter resting electrocardiographic results (0-2): \"))\n",
        "thalach = float(input(\"Enter maximum heart rate achieved: \"))\n",
        "exang = int(input(\"Enter exercise induced angina (1 = yes, 0 = no): \"))\n",
        "oldpeak = float(input(\"Enter ST depression induced by exercise relative to rest: \"))\n",
        "slope = int(input(\"Enter the slope of the peak exercise ST segment (0-2): \"))\n",
        "ca = int(input(\"Enter number of major vessels colored by fluoroscopy (0-3): \"))\n",
        "thal = int(input(\"Enter thalassemia type (1 = normal, 2 = fixed defect, 3 = reversible defect): \"))\n",
        "\n",
        "# Call the prediction function with user inputs\n",
        "result = predict_heart_disease(age, sex, cp, trestbps, chol, fbs, restecg, thalach, exang, oldpeak, slope, ca, thal)\n",
        "\n",
        "# Display the prediction result\n",
        "print(\"Prediction:\", result)"
      ],
      "metadata": {
        "id": "JeY_zdye1kHN"
      },
      "execution_count": null,
      "outputs": []
    }
  ]
}